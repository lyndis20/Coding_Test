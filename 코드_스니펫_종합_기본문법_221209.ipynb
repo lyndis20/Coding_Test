{
 "cells": [
  {
   "cell_type": "markdown",
   "id": "25e088e2",
   "metadata": {},
   "source": [
    "# 코딩테스트 대비 코드스니펫\n",
    "멋쟁이사자처럼 ai school 7기 이호준 강사님(제주코딩베이스캠프) 강의를 바탕으로 작성하였습니다."
   ]
  },
  {
   "cell_type": "markdown",
   "id": "21fd0dc0",
   "metadata": {},
   "source": [
    "- 예외 처리\n",
    "- 속도 개선\n",
    "    1. class로 구현\n",
    "    2. 메서드 대신 슬라이싱\n",
    "    3. for문 대신 리스트컴프리헨션 사용하기\n",
    "    4. 재귀는 최후의 수단"
   ]
  },
  {
   "cell_type": "markdown",
   "id": "79043a12",
   "metadata": {},
   "source": [
    "## 리스트\n",
    "### 리스트 컴프리헨션\n",
    "출처_코딩도장 https://wikidocs.net/22805 "
   ]
  },
  {
   "cell_type": "code",
   "execution_count": 25,
   "id": "902e1796",
   "metadata": {},
   "outputs": [
    {
     "data": {
      "text/plain": [
       "[2, 4, 6, 8, 10, 12, 14, 16, 18, 20]"
      ]
     },
     "execution_count": 25,
     "metadata": {},
     "output_type": "execute_result"
    }
   ],
   "source": [
    "# 2의 배수 출력\n",
    "[ 2*x for x in range(1, 10+1) ]"
   ]
  },
  {
   "cell_type": "code",
   "execution_count": 26,
   "id": "90c0a3ac",
   "metadata": {},
   "outputs": [
    {
     "data": {
      "text/plain": [
       "[2, 4, 6, 8, 10]"
      ]
     },
     "execution_count": 26,
     "metadata": {},
     "output_type": "execute_result"
    }
   ],
   "source": [
    "# if 문 함께 사용\n",
    "[x for x in range(1, 10+1) if x % 2 == 0]"
   ]
  },
  {
   "cell_type": "markdown",
   "id": "695590d3",
   "metadata": {},
   "source": [
    "### 메서드 (리스트)"
   ]
  },
  {
   "cell_type": "code",
   "execution_count": 3,
   "id": "9e3ccfaf",
   "metadata": {},
   "outputs": [
    {
     "data": {
      "text/plain": [
       "\"\\n'append',\\n 'clear',\\n 'copy',\\n 'count',\\n 'extend',\\n 'index',\\n 'insert',\\n 'pop',\\n 'remove',\\n 'reverse',\\n 'sort'\\n\""
      ]
     },
     "execution_count": 3,
     "metadata": {},
     "output_type": "execute_result"
    }
   ],
   "source": [
    "#리스트 메서드 확인\n",
    "# dir([1,2,3])\n",
    "\"\"\"\n",
    "'append',\n",
    " 'clear',\n",
    " 'copy',\n",
    " 'count',\n",
    " 'extend',\n",
    " 'index',\n",
    " 'insert',\n",
    " 'pop',\n",
    " 'remove',\n",
    " 'reverse',\n",
    " 'sort'\n",
    "\"\"\""
   ]
  },
  {
   "cell_type": "code",
   "execution_count": 6,
   "id": "cee16438",
   "metadata": {},
   "outputs": [
    {
     "data": {
      "text/plain": [
       "4"
      ]
     },
     "execution_count": 6,
     "metadata": {},
     "output_type": "execute_result"
    }
   ],
   "source": [
    "# count\n",
    "# 숫자 카운팅\n",
    "[1,2,1,1,1,4,43,3,5,11,111,11].count(1)"
   ]
  },
  {
   "cell_type": "code",
   "execution_count": 7,
   "id": "7bce4b85",
   "metadata": {},
   "outputs": [
    {
     "data": {
      "text/plain": [
       "11"
      ]
     },
     "execution_count": 7,
     "metadata": {},
     "output_type": "execute_result"
    }
   ],
   "source": [
    " # 문자 카운팅 - 문자열 변환\n",
    "str([1,2,1,1,1,4,43,3,5,11,111,11]).count(\"1\")"
   ]
  },
  {
   "cell_type": "code",
   "execution_count": 9,
   "id": "fd1550b8",
   "metadata": {},
   "outputs": [
    {
     "data": {
      "text/plain": [
       "4000"
      ]
     },
     "execution_count": 9,
     "metadata": {},
     "output_type": "execute_result"
    }
   ],
   "source": [
    "# 1부터 10,000까지 8이라는 숫자가 총 몇번 나오는가? \n",
    "str(list(range(10000))).count(\"8\")"
   ]
  },
  {
   "cell_type": "markdown",
   "id": "324b7a83",
   "metadata": {},
   "source": [
    "### map\n",
    "문자 배열을 정수로 변환하는 \n",
    "- map(int, L)\n",
    "- 리스트컴프리헨션과 비교\n",
    "\n",
    "**함수를 재활용 할거라면 def 형태로 선언, 아니라면 lambda함수를 Map과 많이 활용**"
   ]
  },
  {
   "cell_type": "code",
   "execution_count": 10,
   "id": "cecae291",
   "metadata": {},
   "outputs": [
    {
     "data": {
      "text/plain": [
       "[1, 11, 125]"
      ]
     },
     "execution_count": 10,
     "metadata": {},
     "output_type": "execute_result"
    }
   ],
   "source": [
    "L =  ['1','11','125']\n",
    "[int(i) for i in L]"
   ]
  },
  {
   "cell_type": "code",
   "execution_count": 12,
   "id": "20935931",
   "metadata": {},
   "outputs": [
    {
     "data": {
      "text/plain": [
       "[1, 11, 125]"
      ]
     },
     "execution_count": 12,
     "metadata": {},
     "output_type": "execute_result"
    }
   ],
   "source": [
    "list(map(int, L))"
   ]
  },
  {
   "cell_type": "code",
   "execution_count": 11,
   "id": "0656dd04",
   "metadata": {},
   "outputs": [
    {
     "data": {
      "text/plain": [
       "137"
      ]
     },
     "execution_count": 11,
     "metadata": {},
     "output_type": "execute_result"
    }
   ],
   "source": [
    "sum([int(i) for i in L])"
   ]
  },
  {
   "cell_type": "code",
   "execution_count": 13,
   "id": "74e720a6",
   "metadata": {},
   "outputs": [
    {
     "data": {
      "text/plain": [
       "137"
      ]
     },
     "execution_count": 13,
     "metadata": {},
     "output_type": "execute_result"
    }
   ],
   "source": [
    "sum(map(int, L))"
   ]
  },
  {
   "cell_type": "code",
   "execution_count": 15,
   "id": "33d18212",
   "metadata": {},
   "outputs": [
    {
     "data": {
      "text/plain": [
       "[2, 4, 6, 8, 10]"
      ]
     },
     "execution_count": 15,
     "metadata": {},
     "output_type": "execute_result"
    }
   ],
   "source": [
    "numbers = [1, 2, 3, 4, 5]\n",
    "list(map(lambda x: 2*x, numbers)) #map만 출력하면 주소만 반환"
   ]
  },
  {
   "cell_type": "code",
   "execution_count": 16,
   "id": "15a67777",
   "metadata": {},
   "outputs": [
    {
     "data": {
      "text/plain": [
       "[2, 3, 7, 4, 1]"
      ]
     },
     "execution_count": 16,
     "metadata": {},
     "output_type": "execute_result"
    }
   ],
   "source": [
    "# 리스트 안의 차이로 새로운 리스트 만들기\n",
    "def 함수(x):\n",
    "    return x[1] - x[0]\n",
    "\n",
    "ㅣ = [[1,3],[2,5],[3,10],[1,5],[6,7]]\n",
    "\n",
    "list(map(함수, ㅣ))"
   ]
  },
  {
   "cell_type": "code",
   "execution_count": 17,
   "id": "d9be5daf",
   "metadata": {},
   "outputs": [
    {
     "data": {
      "text/plain": [
       "[2, 3, 7, 4, 1]"
      ]
     },
     "execution_count": 17,
     "metadata": {},
     "output_type": "execute_result"
    }
   ],
   "source": [
    "list(map(lambda x:x[1]-x[0], ㅣ))"
   ]
  },
  {
   "cell_type": "markdown",
   "id": "6ba68140",
   "metadata": {},
   "source": [
    "### zip 활용"
   ]
  },
  {
   "cell_type": "code",
   "execution_count": 18,
   "id": "a4d58f93",
   "metadata": {},
   "outputs": [
    {
     "data": {
      "text/plain": [
       "[('a', '1'), ('b', '2'), ('c', '3'), ('d', '4'), ('e', '5')]"
      ]
     },
     "execution_count": 18,
     "metadata": {},
     "output_type": "execute_result"
    }
   ],
   "source": [
    "#zip 보통 2개씩 묶을때 사용, 개수는 그 이상도 가능\n",
    "list(zip('abcde','12345'))"
   ]
  },
  {
   "cell_type": "code",
   "execution_count": 22,
   "id": "78b087be",
   "metadata": {},
   "outputs": [
    {
     "data": {
      "text/plain": [
       "[(0, 'h', 30),\n",
       " (1, 'e', 50),\n",
       " (2, 'l', 60),\n",
       " (3, 'l', 100),\n",
       " (4, 'o', 30),\n",
       " (5, ' ', 4),\n",
       " (6, 'w', 10)]"
      ]
     },
     "execution_count": 22,
     "metadata": {},
     "output_type": "execute_result"
    }
   ],
   "source": [
    "# 문제: 차를 구하고 문자는 보존하기 \n",
    "# 원소간 개수가 맞지 않으면 끝까지 나오지 않는다.\n",
    "list(zip(range(10), 'hello world', [30,50,60,100,30,4,10]))"
   ]
  },
  {
   "cell_type": "markdown",
   "id": "0f872dd4",
   "metadata": {},
   "source": [
    "1차원의 점들이 주어졌을 때, 그 중 가장 거리가 짧은 것의 쌍을 출력하는 함수를 작성하시오. (단 점들의 배열은 모두 정렬되어있다고 가정한다.)\n",
    "예를들어 S = [1, 3, 4, 8, 13, 17, 20] 이 주어졌다면, 결과값은 (3, 4)가 될 것이다.\n",
    "문제링크 : https://codingdojang.com/scode/408"
   ]
  },
  {
   "cell_type": "code",
   "execution_count": 23,
   "id": "913d75ac",
   "metadata": {},
   "outputs": [
    {
     "data": {
      "text/plain": [
       "[(1, 3), (3, 4), (4, 8), (8, 13), (13, 17), (17, 20)]"
      ]
     },
     "execution_count": 23,
     "metadata": {},
     "output_type": "execute_result"
    }
   ],
   "source": [
    "s = [1, 3, 4, 8, 13, 17, 20]\n",
    "list(zip(s,s[1:]))"
   ]
  },
  {
   "cell_type": "markdown",
   "id": "33455d37",
   "metadata": {},
   "source": [
    "## 정렬\n",
    "배열 문제 풀기"
   ]
  },
  {
   "cell_type": "code",
   "execution_count": 27,
   "id": "494afe2e",
   "metadata": {},
   "outputs": [],
   "source": [
    "# sorted(list(), key=?, reverse=True)\n",
    "# list.sort(reverse=True)\n",
    "# key에 함수활용 return값은 정렬하고자 하는 기준"
   ]
  },
  {
   "cell_type": "markdown",
   "id": "a30da83b",
   "metadata": {},
   "source": [
    ".sort()와 sorted의 차이\n",
    "- .sort(): \"리스트형의 메소드\"이며, 리스트 원본 값 자체를 변경, 값을 반환하지 않고 정렬만 변경해주는 것\n",
    "- sorted(리스트): \"내장 함수\"이며, 리스트 원본 값을 유지한 채 정렬 값을 **반환**한다."
   ]
  },
  {
   "cell_type": "code",
   "execution_count": 36,
   "id": "9ebf4021",
   "metadata": {},
   "outputs": [
    {
     "data": {
      "text/plain": [
       "[15, 26, 37, 72, 74, 115]"
      ]
     },
     "execution_count": 36,
     "metadata": {},
     "output_type": "execute_result"
    }
   ],
   "source": [
    "# .sort는 원본이 바뀌고, 출력을 해줘야 바뀐 정렬을 보여준다.\n",
    "a = [115,37,26,72,15,74]\n",
    "a.sort(reverse=True)\n",
    "a"
   ]
  },
  {
   "cell_type": "code",
   "execution_count": 38,
   "id": "7d91a7a7",
   "metadata": {},
   "outputs": [
    {
     "data": {
      "text/plain": [
       "[[1, (3, 4)],\n",
       " [2, (1, 3)],\n",
       " [3, (17, 20)],\n",
       " [4, (4, 8)],\n",
       " [4, (13, 17)],\n",
       " [5, (8, 13)]]"
      ]
     },
     "execution_count": 38,
     "metadata": {},
     "output_type": "execute_result"
    }
   ],
   "source": [
    "def 함수(value):\n",
    "    return [value[1] -value[0], (value[0], value[1])]\n",
    "\n",
    "s = [1,3,4,8,13,17,20]\n",
    "list(map(함수, zip(s,s[1:])))\n",
    "\n",
    "sorted(list(map(함수, zip(s,s[1:]))), key=lambda x:x[0], reverse=False)\n",
    "# key는 기준, reverse는 오름차, 내림차 전환\n",
    "# 가장 적은 차이는 정렬의 첫번째 값 x[0] 또는 min"
   ]
  },
  {
   "cell_type": "markdown",
   "id": "b07a30bd",
   "metadata": {},
   "source": [
    "### 배열의 정렬 순서 반환 (index)"
   ]
  },
  {
   "cell_type": "code",
   "execution_count": 75,
   "id": "4a3b5d0e",
   "metadata": {},
   "outputs": [
    {
     "data": {
      "text/plain": [
       "[5, 4, 2, 3, 1]"
      ]
     },
     "execution_count": 75,
     "metadata": {},
     "output_type": "execute_result"
    }
   ],
   "source": [
    "# .index 활용하기\n",
    "# 정렬 시의 순서 반환\n",
    "a = [1,2,6,3,7]\n",
    "s = sorted(a, reverse = True)\n",
    "[s.index(i) + 1 for i in a]"
   ]
  },
  {
   "cell_type": "markdown",
   "id": "2fd6951c",
   "metadata": {},
   "source": [
    "\n",
    "- id() 객체의 고유 주소값\n",
    "- type() 타입을 반환"
   ]
  },
  {
   "cell_type": "code",
   "execution_count": 39,
   "id": "ef4595ac",
   "metadata": {},
   "outputs": [
    {
     "name": "stdout",
     "output_type": "stream",
     "text": [
      "140186132010448 140186132010448 140186132010448\n"
     ]
    }
   ],
   "source": [
    "x = 1000\n",
    "y = x\n",
    "z = y\n",
    "print(id(x),id(y),id(z))"
   ]
  },
  {
   "cell_type": "markdown",
   "id": "f28e972b",
   "metadata": {},
   "source": [
    "for문으로 최소값 구하기 (크기 비교하기)"
   ]
  },
  {
   "cell_type": "code",
   "execution_count": null,
   "id": "29c92eea",
   "metadata": {},
   "outputs": [],
   "source": [
    "# for문으로 최소값 구하기 100-> 1 ->1 \n",
    "s = [100, 1,3,4,8,13,17,20]\n",
    "m = float('inf') #양의 무한대\n",
    "for i in s:\n",
    "    if i < m:\n",
    "        m=i\n",
    "print(m)"
   ]
  },
  {
   "cell_type": "code",
   "execution_count": 40,
   "id": "4624c67a",
   "metadata": {},
   "outputs": [
    {
     "name": "stdout",
     "output_type": "stream",
     "text": [
      "180\n",
      "1\n",
      "192\n",
      "2\n",
      "170\n",
      "3\n"
     ]
    }
   ],
   "source": [
    "array = [149, 180, 192, 170]\n",
    "height = 167\n",
    "sorted(array)\n",
    "a=0\n",
    "for i in array:\n",
    "    if i > height:\n",
    "        print(i)\n",
    "        a+=1\n",
    "        print(a)"
   ]
  },
  {
   "cell_type": "code",
   "execution_count": 42,
   "id": "667dd9f3",
   "metadata": {},
   "outputs": [
    {
     "name": "stdout",
     "output_type": "stream",
     "text": [
      "3 4 1\n"
     ]
    }
   ],
   "source": [
    "# 두 수의 차이의 최솟값 구하기\n",
    "s  = [1, 3, 4, 8, 13, 17, 20]\n",
    "최솟값 = float('inf')\n",
    "인덱스 = 0\n",
    "\n",
    "for i in range(len(s)-1):\n",
    "    if (s[i+1] - s[i]) < 최솟값:\n",
    "        최솟값 = s[i+1] - s[i]\n",
    "        인덱스 = i\n",
    "\n",
    "print(s[인덱스], s[인덱스+1], 최솟값)"
   ]
  },
  {
   "cell_type": "markdown",
   "id": "55f74b9b",
   "metadata": {},
   "source": [
    "## 정규 표현식 연습"
   ]
  },
  {
   "cell_type": "code",
   "execution_count": 43,
   "id": "6515654a",
   "metadata": {},
   "outputs": [
    {
     "data": {
      "text/plain": [
       "'abcde12345BCDEabcde12345BCDE'"
      ]
     },
     "execution_count": 43,
     "metadata": {},
     "output_type": "execute_result"
    }
   ],
   "source": [
    "import re\n",
    "re.sub('A','','abcde12345ABCDEabcde12345ABCDE')"
   ]
  },
  {
   "cell_type": "code",
   "execution_count": 44,
   "id": "edd92485",
   "metadata": {},
   "outputs": [
    {
     "data": {
      "text/plain": [
       "'12345ABCDE12345ABCDE'"
      ]
     },
     "execution_count": 44,
     "metadata": {},
     "output_type": "execute_result"
    }
   ],
   "source": [
    "re.sub('[a-z]','','abcde12345ABCDEabcde12345ABCDE')"
   ]
  },
  {
   "cell_type": "code",
   "execution_count": 45,
   "id": "c5218638",
   "metadata": {},
   "outputs": [
    {
     "data": {
      "text/plain": [
       "'abcde45ABCDEabcde45ABCDE'"
      ]
     },
     "execution_count": 45,
     "metadata": {},
     "output_type": "execute_result"
    }
   ],
   "source": [
    "re.sub('[123]','','abcde12345ABCDEabcde12345ABCDE')"
   ]
  },
  {
   "cell_type": "code",
   "execution_count": 49,
   "id": "0ef7f95a",
   "metadata": {},
   "outputs": [
    {
     "data": {
      "text/plain": [
       "'1234512345'"
      ]
     },
     "execution_count": 49,
     "metadata": {},
     "output_type": "execute_result"
    }
   ],
   "source": [
    "re.sub('[a-zA-Z]','','abcde12345ABCDEabcde12345ABCDE')"
   ]
  },
  {
   "cell_type": "code",
   "execution_count": 48,
   "id": "f712a189",
   "metadata": {},
   "outputs": [
    {
     "data": {
      "text/plain": [
       "'abcdeABCDEabcdeABCDE'"
      ]
     },
     "execution_count": 48,
     "metadata": {},
     "output_type": "execute_result"
    }
   ],
   "source": [
    "re.sub('[0-9]','','abcde12345ABCDEabcde12345ABCDE')"
   ]
  },
  {
   "cell_type": "markdown",
   "id": "f9b93984",
   "metadata": {},
   "source": [
    "특정 문자열 대체하기 문제\n",
    "- 프로그래머스 https://school.programmers.co.kr/learn/courses/30/lessons/120826"
   ]
  },
  {
   "cell_type": "code",
   "execution_count": 54,
   "id": "e0017a27",
   "metadata": {},
   "outputs": [],
   "source": [
    "import re\n",
    "\n",
    "def solution(my_string, letter):\n",
    "    return re.sub(letter, '', my_string)"
   ]
  },
  {
   "cell_type": "code",
   "execution_count": 55,
   "id": "6e4ccfb8",
   "metadata": {},
   "outputs": [],
   "source": [
    "def solution(my_string, letter):\n",
    "    return my_string.replace(letter, '')"
   ]
  },
  {
   "cell_type": "markdown",
   "id": "6f031521",
   "metadata": {},
   "source": [
    "지정한 형식 문자만 가져오기: re.findall"
   ]
  },
  {
   "cell_type": "code",
   "execution_count": 58,
   "id": "45648bdb",
   "metadata": {
    "scrolled": true
   },
   "outputs": [
    {
     "data": {
      "text/plain": [
       "['1', '2', '3', '4']"
      ]
     },
     "execution_count": 58,
     "metadata": {},
     "output_type": "execute_result"
    }
   ],
   "source": [
    "re.findall('[0-9]', 'aAb1B2cC34oOp')"
   ]
  },
  {
   "cell_type": "markdown",
   "id": "f4bd0c2a",
   "metadata": {},
   "source": [
    "숨어있는 숫자의 덧셈(1) https://school.programmers.co.kr/learn/courses/30/lessons/120851"
   ]
  },
  {
   "cell_type": "code",
   "execution_count": 60,
   "id": "b1c4ed29",
   "metadata": {},
   "outputs": [],
   "source": [
    "import re\n",
    "\n",
    "def solution(my_string):\n",
    "    return sum(map(int,re.findall('[0-9]', my_string)))"
   ]
  },
  {
   "cell_type": "markdown",
   "id": "5d246cf1",
   "metadata": {},
   "source": [
    "## 삼항연산자"
   ]
  },
  {
   "cell_type": "code",
   "execution_count": null,
   "id": "6b487055",
   "metadata": {},
   "outputs": [],
   "source": [
    "print('hi') if True else print('bye')"
   ]
  },
  {
   "cell_type": "code",
   "execution_count": 57,
   "id": "08402adf",
   "metadata": {},
   "outputs": [
    {
     "data": {
      "text/plain": [
       "1"
      ]
     },
     "execution_count": 57,
     "metadata": {},
     "output_type": "execute_result"
    }
   ],
   "source": [
    "1 if True else 2\n",
    "# 1 if False else 2"
   ]
  },
  {
   "cell_type": "code",
   "execution_count": null,
   "id": "b539bf5f",
   "metadata": {},
   "outputs": [],
   "source": [
    "# 문자열 안에 문자열 in 활용\n",
    "def solution(str1, str2):\n",
    "    return 1 if str2 in str1 else 2"
   ]
  },
  {
   "cell_type": "markdown",
   "id": "36141954",
   "metadata": {},
   "source": [
    "## 자료형 판별"
   ]
  },
  {
   "cell_type": "code",
   "execution_count": 64,
   "id": "826e9977",
   "metadata": {},
   "outputs": [
    {
     "data": {
      "text/plain": [
       "True"
      ]
     },
     "execution_count": 64,
     "metadata": {},
     "output_type": "execute_result"
    }
   ],
   "source": [
    "# 숫자형\n",
    "'1'.isnumeric()\n",
    "'1'.isdigit()"
   ]
  },
  {
   "cell_type": "code",
   "execution_count": 65,
   "id": "08add5f2",
   "metadata": {},
   "outputs": [
    {
     "data": {
      "text/plain": [
       "False"
      ]
     },
     "execution_count": 65,
     "metadata": {},
     "output_type": "execute_result"
    }
   ],
   "source": [
    "'T'.isdigit()"
   ]
  },
  {
   "cell_type": "code",
   "execution_count": 66,
   "id": "07102f72",
   "metadata": {},
   "outputs": [
    {
     "ename": "SyntaxError",
     "evalue": "invalid syntax (4009589078.py, line 1)",
     "output_type": "error",
     "traceback": [
      "\u001b[0;36m  Input \u001b[0;32mIn [66]\u001b[0;36m\u001b[0m\n\u001b[0;31m    1.isdigit\u001b[0m\n\u001b[0m      ^\u001b[0m\n\u001b[0;31mSyntaxError\u001b[0m\u001b[0;31m:\u001b[0m invalid syntax\n"
     ]
    }
   ],
   "source": [
    "1.isdigit #오류"
   ]
  },
  {
   "cell_type": "code",
   "execution_count": 73,
   "id": "20f5d1ee",
   "metadata": {},
   "outputs": [
    {
     "data": {
      "text/plain": [
       "False"
      ]
     },
     "execution_count": 73,
     "metadata": {},
     "output_type": "execute_result"
    }
   ],
   "source": [
    "#소문자 대문자\n",
    "'abc'.islower()\n",
    "'abc'.isupper()\n",
    "# 영문자\n",
    "# 'abd'.isalpha()"
   ]
  },
  {
   "cell_type": "code",
   "execution_count": 72,
   "id": "95843b24",
   "metadata": {},
   "outputs": [
    {
     "data": {
      "text/plain": [
       "'ABC'"
      ]
     },
     "execution_count": 72,
     "metadata": {},
     "output_type": "execute_result"
    }
   ],
   "source": [
    "# 대문자, 소문자 변경\n",
    "'abc'.upper()\n",
    "# 'abc'.lower()"
   ]
  },
  {
   "cell_type": "code",
   "execution_count": 74,
   "id": "ccfaa125",
   "metadata": {},
   "outputs": [
    {
     "data": {
      "text/plain": [
       "\"\\n'isalnum',\\n 'isalpha',\\n 'isascii',\\n 'isdecimal',\\n 'isdigit',\\n 'isidentifier',\\n 'islower',\\n 'isnumeric',\\n 'isprintable',\\n 'isspace',\\n 'istitle',\\n 'isupper'\\n \""
      ]
     },
     "execution_count": 74,
     "metadata": {},
     "output_type": "execute_result"
    }
   ],
   "source": [
    "# 사용 가능한 리스트\n",
    "dir('hello')\n",
    "\"\"\"\n",
    "'isalnum',\n",
    " 'isalpha',\n",
    " 'isascii',\n",
    " 'isdecimal',\n",
    " 'isdigit',\n",
    " 'isidentifier',\n",
    " 'islower',\n",
    " 'isnumeric',\n",
    " 'isprintable',\n",
    " 'isspace',\n",
    " 'istitle',\n",
    " 'isupper'\n",
    " \"\"\""
   ]
  }
 ],
 "metadata": {
  "kernelspec": {
   "display_name": "Python 3 (ipykernel)",
   "language": "python",
   "name": "python3"
  },
  "language_info": {
   "codemirror_mode": {
    "name": "ipython",
    "version": 3
   },
   "file_extension": ".py",
   "mimetype": "text/x-python",
   "name": "python",
   "nbconvert_exporter": "python",
   "pygments_lexer": "ipython3",
   "version": "3.9.12"
  },
  "toc": {
   "base_numbering": 1,
   "nav_menu": {},
   "number_sections": true,
   "sideBar": true,
   "skip_h1_title": false,
   "title_cell": "Table of Contents",
   "title_sidebar": "Contents",
   "toc_cell": false,
   "toc_position": {},
   "toc_section_display": true,
   "toc_window_display": false
  }
 },
 "nbformat": 4,
 "nbformat_minor": 5
}
