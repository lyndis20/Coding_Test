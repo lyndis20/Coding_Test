{
  "cells": [
    {
      "cell_type": "markdown",
      "source": [
        "# 1. 자료구조와 알고리즘, 코딩테스트"
      ],
      "metadata": {
        "id": "xPJAL0fq8sBX"
      }
    },
    {
      "cell_type": "markdown",
      "metadata": {
        "id": "6O46Zg9D5tv6"
      },
      "source": [
        "\n",
        "- 기억해두자! 예외처리! (0과 1로 나누는 등)\n",
        "- 속도개선 (정답이 맞아도 시간제한 있는 경우)\n",
        "    1. class로 구현\n",
        "    2. 메서드 대신 슬라이싱 구현(슬라이싱은 C로 구현되어 있어 메서드보다 통상 8배정도 빠릅니다.)하세요. 다만 공간복잡도가 상승할 수 있습니다.<br>(리스트.reverse(), reversed(리스트), 리스트[::-1])\n",
        "    3. for문 대신 list comprehension을 사용하기\n",
        "    4. 재귀는 최후의 수단"
      ]
    },
    {
      "cell_type": "markdown",
      "metadata": {
        "id": "83As1RgB5tv6"
      },
      "source": [
        "\n",
        "1부터 10,000까지 8이라는 숫자가 총 몇번 나오는가?\n",
        "8이 포함되어 있는 숫자의 갯수를 카운팅 하는 것이 아니라 8이라는 숫자를 모두 카운팅 해야 한다.<br>\n",
        "(※ 예를들어 8808은 3, 8888은 4로 카운팅 해야 함)\n",
        "문제 링크 : https://codingdojang.com/scode/393"
      ]
    },
    {
      "cell_type": "code",
      "source": [
        "[1,2,3,1,1,1].count(1)"
      ],
      "metadata": {
        "colab": {
          "base_uri": "https://localhost:8080/"
        },
        "id": "4lJDw6XtUQyO",
        "outputId": "48bebecc-3a16-4896-9d42-539063661e24"
      },
      "execution_count": null,
      "outputs": [
        {
          "output_type": "execute_result",
          "data": {
            "text/plain": [
              "4"
            ]
          },
          "metadata": {},
          "execution_count": 1
        }
      ]
    },
    {
      "cell_type": "code",
      "source": [
        "dir([1,2,3]) \n",
        "#append부터 sort까지 다 암기하고 있어야한다\n",
        "#문제도 풀다가 안풀리면 풀이를 그냥 암기해라"
      ],
      "metadata": {
        "colab": {
          "base_uri": "https://localhost:8080/"
        },
        "id": "DL3CgWn4UgmN",
        "outputId": "e65e2c25-5f4f-43fd-eb7b-92358ad423e7"
      },
      "execution_count": null,
      "outputs": [
        {
          "output_type": "execute_result",
          "data": {
            "text/plain": [
              "['__add__',\n",
              " '__class__',\n",
              " '__contains__',\n",
              " '__delattr__',\n",
              " '__delitem__',\n",
              " '__dir__',\n",
              " '__doc__',\n",
              " '__eq__',\n",
              " '__format__',\n",
              " '__ge__',\n",
              " '__getattribute__',\n",
              " '__getitem__',\n",
              " '__gt__',\n",
              " '__hash__',\n",
              " '__iadd__',\n",
              " '__imul__',\n",
              " '__init__',\n",
              " '__init_subclass__',\n",
              " '__iter__',\n",
              " '__le__',\n",
              " '__len__',\n",
              " '__lt__',\n",
              " '__mul__',\n",
              " '__ne__',\n",
              " '__new__',\n",
              " '__reduce__',\n",
              " '__reduce_ex__',\n",
              " '__repr__',\n",
              " '__reversed__',\n",
              " '__rmul__',\n",
              " '__setattr__',\n",
              " '__setitem__',\n",
              " '__sizeof__',\n",
              " '__str__',\n",
              " '__subclasshook__',\n",
              " 'append',\n",
              " 'clear',\n",
              " 'copy',\n",
              " 'count',\n",
              " 'extend',\n",
              " 'index',\n",
              " 'insert',\n",
              " 'pop',\n",
              " 'remove',\n",
              " 'reverse',\n",
              " 'sort']"
            ]
          },
          "metadata": {},
          "execution_count": 2
        }
      ]
    },
    {
      "cell_type": "code",
      "source": [
        "[1,2,1,1,1,4,43,3,5,11,111,11].count(1)"
      ],
      "metadata": {
        "colab": {
          "base_uri": "https://localhost:8080/"
        },
        "id": "og8uis80UutM",
        "outputId": "c0fb311b-5a1a-44e8-8876-bf12597238a3"
      },
      "execution_count": null,
      "outputs": [
        {
          "output_type": "execute_result",
          "data": {
            "text/plain": [
              "4"
            ]
          },
          "metadata": {},
          "execution_count": 3
        }
      ]
    },
    {
      "cell_type": "code",
      "source": [
        "# 낱개 1을 세기 위해 문자열로 접근\n",
        "str([1,2,1,1,1,4,43,3,5,11,111,11]).count(\"1\")"
      ],
      "metadata": {
        "colab": {
          "base_uri": "https://localhost:8080/"
        },
        "id": "xpyIsg-ZU6sG",
        "outputId": "7f7ce7ee-7b1d-4d72-bda7-6ad450f2ea26"
      },
      "execution_count": null,
      "outputs": [
        {
          "output_type": "execute_result",
          "data": {
            "text/plain": [
              "11"
            ]
          },
          "metadata": {},
          "execution_count": 4
        }
      ]
    },
    {
      "cell_type": "code",
      "source": [
        "# 정답\n",
        "str(list(range(10000))).count(\"8\")"
      ],
      "metadata": {
        "colab": {
          "base_uri": "https://localhost:8080/"
        },
        "id": "rFdxt44jVhPB",
        "outputId": "aaed61f7-3f33-4e21-c6d3-1c8059428cc8"
      },
      "execution_count": null,
      "outputs": [
        {
          "output_type": "execute_result",
          "data": {
            "text/plain": [
              "4000"
            ]
          },
          "metadata": {},
          "execution_count": 6
        }
      ]
    },
    {
      "cell_type": "markdown",
      "source": [
        "Map 활용하기 (map, zip)"
      ],
      "metadata": {
        "id": "r3A4wflpN4rl"
      }
    },
    {
      "cell_type": "markdown",
      "source": [
        "문자 배열을 정수로 변환하는 map(int, L)\n",
        "\n",
        "\n"
      ],
      "metadata": {
        "id": "Zr4L_dmUOQFa"
      }
    },
    {
      "cell_type": "code",
      "source": [
        "L =  ['1','11','125']\n",
        "[int(i) for i in L]\n",
        "sum([int(i) for i in L])\n",
        "\n",
        "# 문자열 정수로 변환 map을 많이 활용한다!! map(int, L)\n",
        "list(map(int, L))"
      ],
      "metadata": {
        "colab": {
          "base_uri": "https://localhost:8080/"
        },
        "id": "mdld_G-4VlaT",
        "outputId": "7f09300c-7ca5-4064-d750-6cf83b83769e"
      },
      "execution_count": null,
      "outputs": [
        {
          "output_type": "execute_result",
          "data": {
            "text/plain": [
              "[1, 11, 125]"
            ]
          },
          "metadata": {},
          "execution_count": 9
        }
      ]
    },
    {
      "cell_type": "code",
      "source": [
        "sum(map(int, L))"
      ],
      "metadata": {
        "colab": {
          "base_uri": "https://localhost:8080/"
        },
        "id": "w2MpErZKYGY1",
        "outputId": "6a9c3c64-6693-4db7-d037-0610977fe195"
      },
      "execution_count": null,
      "outputs": [
        {
          "output_type": "execute_result",
          "data": {
            "text/plain": [
              "137"
            ]
          },
          "metadata": {},
          "execution_count": 10
        }
      ]
    },
    {
      "cell_type": "code",
      "source": [
        "# map 과 zip은 쌍으로 다닌다\n",
        "def 함수(x):\n",
        "    return x ** 2\n",
        "\n",
        "def 함수2(x):\n",
        "    return x * 2\n",
        "\n",
        "print(list(map(함수,[1,2,3,4])))\n",
        "print(list(map(함수,range(5))))\n",
        "print(list(map(함수2,'abc')))"
      ],
      "metadata": {
        "colab": {
          "base_uri": "https://localhost:8080/"
        },
        "id": "GWE-mYgHWVSA",
        "outputId": "92c70666-4fd0-460e-de30-7b7e7611cf93"
      },
      "execution_count": null,
      "outputs": [
        {
          "output_type": "stream",
          "name": "stdout",
          "text": [
            "[1, 4, 9, 16]\n",
            "[0, 1, 4, 9, 16]\n",
            "['aa', 'bb', 'cc']\n"
          ]
        }
      ]
    },
    {
      "cell_type": "markdown",
      "source": [
        "함수를 재활용 할거라면 def 형태로 선언, 아니라면 lambda함수를 Map과 많이 활용"
      ],
      "metadata": {
        "id": "KOHf5ZtVOIsP"
      }
    },
    {
      "cell_type": "code",
      "source": [
        "numbers = [1, 2, 3, 4, 5]\n",
        "map(lambda x: 2*x, numbers)"
      ],
      "metadata": {
        "colab": {
          "base_uri": "https://localhost:8080/"
        },
        "id": "x6Pz5CSxmT7q",
        "outputId": "8f6874bd-d929-476f-d655-e532d00ea43c"
      },
      "execution_count": null,
      "outputs": [
        {
          "output_type": "execute_result",
          "data": {
            "text/plain": [
              "<map at 0x7fdf59a11410>"
            ]
          },
          "metadata": {},
          "execution_count": 10
        }
      ]
    },
    {
      "cell_type": "code",
      "source": [
        "# 리스트 안의 차이로 새로운 리스트 만들기\n",
        "def 함수(x):\n",
        "    return x[1] - x[0]\n",
        "\n",
        "\n",
        "ㅣ = [[1,3],[2,5],[3,10],[1,5],[6,7]]\n",
        "\n",
        "list(map(함수, ㅣ))"
      ],
      "metadata": {
        "colab": {
          "base_uri": "https://localhost:8080/"
        },
        "id": "FnZQD-OOZopw",
        "outputId": "568315d5-9584-4c85-da74-bd5c7aedb79e"
      },
      "execution_count": 1,
      "outputs": [
        {
          "output_type": "execute_result",
          "data": {
            "text/plain": [
              "[2, 3, 7, 4, 1]"
            ]
          },
          "metadata": {},
          "execution_count": 1
        }
      ]
    },
    {
      "cell_type": "code",
      "source": [
        "list(map(lambda x:x[1]-x[0], ㅣ))"
      ],
      "metadata": {
        "colab": {
          "base_uri": "https://localhost:8080/"
        },
        "id": "toxAt9NrbwAy",
        "outputId": "be4c9aa5-918c-42a3-d8b5-8531ff77747e"
      },
      "execution_count": null,
      "outputs": [
        {
          "output_type": "execute_result",
          "data": {
            "text/plain": [
              "[2, 3, 7, 4, 1]"
            ]
          },
          "metadata": {},
          "execution_count": 18
        }
      ]
    },
    {
      "cell_type": "code",
      "source": [
        "#zip 보통 2개씩 묶을때 사용\n",
        "list(zip('abcde','12345','원투쓰포파'))"
      ],
      "metadata": {
        "colab": {
          "base_uri": "https://localhost:8080/"
        },
        "id": "a2DTPkHfcNhD",
        "outputId": "eab52a9c-f9a2-414a-837c-2d5e4e73636d"
      },
      "execution_count": null,
      "outputs": [
        {
          "output_type": "execute_result",
          "data": {
            "text/plain": [
              "[('a', '1', '원'),\n",
              " ('b', '2', '투'),\n",
              " ('c', '3', '쓰'),\n",
              " ('d', '4', '포'),\n",
              " ('e', '5', '파')]"
            ]
          },
          "metadata": {},
          "execution_count": 20
        }
      ]
    },
    {
      "cell_type": "code",
      "source": [
        "# 문제: 차를 구하고 문자는 보존하기\n",
        "list(zip(range(10), 'hello world', [30,50,60,100,30,4,10,2,30]))"
      ],
      "metadata": {
        "colab": {
          "base_uri": "https://localhost:8080/"
        },
        "id": "7WwyLaCjdSwQ",
        "outputId": "2268c6aa-39cb-4d95-e423-9bbb2da9422b"
      },
      "execution_count": null,
      "outputs": [
        {
          "output_type": "execute_result",
          "data": {
            "text/plain": [
              "[(0, 'h', 30),\n",
              " (1, 'e', 50),\n",
              " (2, 'l', 60),\n",
              " (3, 'l', 100),\n",
              " (4, 'o', 30),\n",
              " (5, ' ', 4),\n",
              " (6, 'w', 10),\n",
              " (7, 'o', 2),\n",
              " (8, 'r', 30)]"
            ]
          },
          "metadata": {},
          "execution_count": 25
        }
      ]
    },
    {
      "cell_type": "code",
      "source": [
        "list(map(lambda x: [x[2]-x[0], x[1]]\n",
        "    ,zip(range(10), 'hello world', [30,50,60,100,30,4,10,2,30]))\n",
        ")"
      ],
      "metadata": {
        "colab": {
          "base_uri": "https://localhost:8080/"
        },
        "id": "-_H7kdFVd1dj",
        "outputId": "43fa0ecb-6199-4fbb-abac-5d6cc560f06e"
      },
      "execution_count": null,
      "outputs": [
        {
          "output_type": "execute_result",
          "data": {
            "text/plain": [
              "[[30, 'h'],\n",
              " [49, 'e'],\n",
              " [58, 'l'],\n",
              " [97, 'l'],\n",
              " [26, 'o'],\n",
              " [-1, ' '],\n",
              " [4, 'w'],\n",
              " [-5, 'o'],\n",
              " [22, 'r']]"
            ]
          },
          "metadata": {},
          "execution_count": 29
        }
      ]
    },
    {
      "cell_type": "markdown",
      "metadata": {
        "id": "Vpj7PJrg5tv_"
      },
      "source": [
        "\n",
        "1차원의 점들이 주어졌을 때, 그 중 가장 거리가 짧은 것의 쌍을 출력하는 함수를 작성하시오. (단 점들의 배열은 모두 정렬되어있다고 가정한다.)\n",
        "\n",
        "예를들어 S = [1, 3, 4, 8, 13, 17, 20] 이 주어졌다면, 결과값은 (3, 4)가 될 것이다.\n",
        "\n",
        "문제링크 : https://codingdojang.com/scode/408"
      ]
    },
    {
      "cell_type": "code",
      "source": [
        "s = [1, 3, 4, 8, 13, 17, 20]\n",
        "list(zip(s,s[1:]))"
      ],
      "metadata": {
        "colab": {
          "base_uri": "https://localhost:8080/"
        },
        "id": "9GOEUvvYealw",
        "outputId": "eaaa877d-b8c5-4485-d7ef-345fc4be054e"
      },
      "execution_count": null,
      "outputs": [
        {
          "output_type": "execute_result",
          "data": {
            "text/plain": [
              "[(1, 3), (3, 4), (4, 8), (8, 13), (13, 17), (17, 20)]"
            ]
          },
          "metadata": {},
          "execution_count": 30
        }
      ]
    },
    {
      "cell_type": "markdown",
      "source": [
        "## 정렬 활용하기\n",
        "sorted(list())<br> key에 함수활용 return값은 정렬하고자 하는 기준<br>\n",
        "`sorted(list(map(함수, zip(s,s[1:]))), key=lambda x:x[0], reverse=False)`"
      ],
      "metadata": {
        "id": "T8rDrDzFOmsH"
      }
    },
    {
      "cell_type": "code",
      "source": [
        "def 함수(value):\n",
        "    return [value[1] -value[0], (value[0], value[1])]\n",
        "\n",
        "s = [1,3,4,8,13,17,20]\n",
        "list(map(함수, zip(s,s[1:])))\n",
        "\n",
        "#가장 적은 차이: 정렬! (또는 Min)\n",
        "# .sort => 데이터 분석을 할때에는 권고사항X\n",
        "# sorted -> 데이터 분석을 할 때 권장\n",
        "\n",
        "sorted(list(map(함수, zip(s,s[1:]))), key=lambda x:x[0], reverse=False)\n",
        "# key는 기준, reverse는 오름차, 내림차 전환\n",
        "\n"
      ],
      "metadata": {
        "colab": {
          "base_uri": "https://localhost:8080/"
        },
        "id": "YJ0tFmixjplW",
        "outputId": "3535ca68-4147-4eb2-e053-8d411cdb14ca"
      },
      "execution_count": null,
      "outputs": [
        {
          "output_type": "execute_result",
          "data": {
            "text/plain": [
              "[[1, (3, 4)],\n",
              " [2, (1, 3)],\n",
              " [3, (17, 20)],\n",
              " [4, (4, 8)],\n",
              " [4, (13, 17)],\n",
              " [5, (8, 13)]]"
            ]
          },
          "metadata": {},
          "execution_count": 35
        }
      ]
    },
    {
      "cell_type": "code",
      "source": [
        "#정렬 연습\n",
        "data = [\n",
        "  {\n",
        "    \"_id\": \"638026858bf078d97cca1a8c\",\n",
        "    \"index\": 0,\n",
        "    \"guid\": \"e57c934d-deec-4493-8f41-6bf8619873f0\",\n",
        "    \"age\": 31,\n",
        "    \"name\": \"Robles Carrillo\",\n",
        "    \"gender\": \"male\"\n",
        "  },\n",
        "  {\n",
        "    \"_id\": \"638026851b762796343e2675\",\n",
        "    \"index\": 1,\n",
        "    \"guid\": \"2ad2599b-f000-4bf1-9947-8d4c2cf2cd9d\",\n",
        "    \"age\": 39,\n",
        "    \"name\": \"Leblanc Noel\",\n",
        "    \"gender\": \"male\"\n",
        "  },\n",
        "  {\n",
        "    \"_id\": \"63802685087592f94b580004\",\n",
        "    \"index\": 2,\n",
        "    \"guid\": \"df74c35e-5b6d-4e6a-991f-399cbe2b12cc\",\n",
        "    \"age\": 30,\n",
        "    \"name\": \"Riddle Rodriguez\",\n",
        "    \"gender\": \"male\"\n",
        "  },\n",
        "  {\n",
        "    \"_id\": \"63802685ec7d3feb98c3e41f\",\n",
        "    \"index\": 3,\n",
        "    \"guid\": \"ac597774-9e9f-4989-ab99-d983124b8515\",\n",
        "    \"age\": 35,\n",
        "    \"name\": \"Kendra Winters\",\n",
        "    \"gender\": \"female\"\n",
        "  },\n",
        "  {\n",
        "    \"_id\": \"638026853ba824f513371642\",\n",
        "    \"index\": 4,\n",
        "    \"guid\": \"92e8dd14-dac7-42f4-90b5-09ba4eda170d\",\n",
        "    \"age\": 35,\n",
        "    \"name\": \"Christy Edwards\",\n",
        "    \"gender\": \"female\"\n",
        "  },\n",
        "  {\n",
        "    \"_id\": \"638026858fb3792865545c84\",\n",
        "    \"index\": 5,\n",
        "    \"guid\": \"2c8d16d4-39d7-460c-a3c1-ea4539d9de7b\",\n",
        "    \"age\": 39,\n",
        "    \"name\": \"Barnett Valenzuela\",\n",
        "    \"gender\": \"male\"\n",
        "  }\n",
        "]"
      ],
      "metadata": {
        "id": "JrLDvI4cmCx2"
      },
      "execution_count": null,
      "outputs": []
    },
    {
      "cell_type": "code",
      "source": [
        "# 이름의 길이 기준\n",
        "sorted(data, key= lambda x: len(x[\"name\"]))\n",
        "# 나이 기준 정렬\n",
        "sorted(data, key= lambda x: x[\"age\"])\n",
        "\n",
        "# 필요한 데이터만 뽑아내기\n",
        "def 함수(v):\n",
        "    return [v['name'], v['age']]\n",
        "list(map(함수, sorted(data, key=lambda x:len(x[\"name\"]))))"
      ],
      "metadata": {
        "colab": {
          "base_uri": "https://localhost:8080/"
        },
        "id": "dBr2oIkqrMGP",
        "outputId": "c6907341-7980-4ec4-a304-639410e70afb"
      },
      "execution_count": null,
      "outputs": [
        {
          "output_type": "execute_result",
          "data": {
            "text/plain": [
              "[['Leblanc Noel', 39],\n",
              " ['Kendra Winters', 35],\n",
              " ['Robles Carrillo', 31],\n",
              " ['Christy Edwards', 35],\n",
              " ['Riddle Rodriguez', 30],\n",
              " ['Barnett Valenzuela', 39]]"
            ]
          },
          "metadata": {},
          "execution_count": 54
        }
      ]
    },
    {
      "cell_type": "code",
      "source": [
        "def 함수2(value):\n",
        "    return abs(value[1]-value[0])\n",
        "\n",
        "def 함수3(value):\n",
        "    return len(value[2])\n",
        "\n",
        "# key에 함수를 활용하고 return값에 기준으로 삼고자 하는 코드 입력\n",
        "\n",
        "sorted([(10, 2), (3, 5), (7, 11), (5, 6)]) # 기본\n",
        "sorted([(10, 2), (3, 5), (7, 11), (5, 6)], key= lambda x: x[1]) # 두번째 요소 기준\n",
        "sorted([(10, 2), (3, 5), (7, 11), (5, 6)], key=함수2) # 문자열 길이 기준, len 안쓰면 그냥 알파벳순\n",
        "sorted([(10, 2, 'aca'), (3, 5, 'aabaa'), (7, 11, 'abaa'), (5, 6, 'ba')], key=함수3)"
      ],
      "metadata": {
        "colab": {
          "base_uri": "https://localhost:8080/"
        },
        "id": "DKeamI9RmZzu",
        "outputId": "7ea629dd-2d9e-4011-c119-70dd8ef4ea17"
      },
      "execution_count": null,
      "outputs": [
        {
          "output_type": "execute_result",
          "data": {
            "text/plain": [
              "[(5, 6, 'ba'), (10, 2, 'aca'), (7, 11, 'abaa'), (3, 5, 'aabaa')]"
            ]
          },
          "metadata": {},
          "execution_count": 48
        }
      ]
    },
    {
      "cell_type": "markdown",
      "source": [
        "- id() 객체의 고유 주소값\n",
        "- type() 타입을 반환"
      ],
      "metadata": {
        "id": "y0iv5qh5PKF2"
      }
    },
    {
      "cell_type": "code",
      "source": [
        "id([1,2,3])\n",
        "id(10), id(10) # 같다\n",
        "x = 1000\n",
        "y = x\n",
        "z = y\n",
        "print(id(x),id(y),id(z))"
      ],
      "metadata": {
        "colab": {
          "base_uri": "https://localhost:8080/"
        },
        "id": "ZD9tfXkmpfO2",
        "outputId": "1393f4ed-16d7-46c2-a969-781f60119417"
      },
      "execution_count": null,
      "outputs": [
        {
          "output_type": "stream",
          "name": "stdout",
          "text": [
            "140342453264016 140342453264016 140342453264016\n"
          ]
        }
      ]
    },
    {
      "cell_type": "code",
      "source": [
        "# for문으로 최소값 구하기 100-> 1 ->1 \n",
        "s = [100, 1,3,4,8,13,17,20]\n",
        "m = float('inf')\n",
        "for i in s:\n",
        "    if i < m:\n",
        "        m=i\n",
        "print(m)\n",
        "\n",
        "# 최솟값을 구하기 위해서는 최댓값이 필요하고\n",
        "# 최댓값을 구하기 위해서는 최솟값이 필요합니다."
      ],
      "metadata": {
        "colab": {
          "base_uri": "https://localhost:8080/"
        },
        "id": "Dkzem80fsQ88",
        "outputId": "07a0377a-2c2f-44ab-b627-88d129cd976c"
      },
      "execution_count": null,
      "outputs": [
        {
          "output_type": "stream",
          "name": "stdout",
          "text": [
            "1\n"
          ]
        }
      ]
    },
    {
      "cell_type": "code",
      "source": [
        "array = [149, 180, 192, 170]\n",
        "height = 167\n",
        "sorted(array)\n",
        "a=0\n",
        "for i in array:\n",
        "    if i > height:\n",
        "        print(i)\n",
        "        a+=1\n",
        "print(a)\n",
        "    "
      ],
      "metadata": {
        "colab": {
          "base_uri": "https://localhost:8080/"
        },
        "id": "2MtwJxyqsX4d",
        "outputId": "c2e8f13c-2bf9-4e4f-ac53-3934b38ef00f"
      },
      "execution_count": null,
      "outputs": [
        {
          "output_type": "stream",
          "name": "stdout",
          "text": [
            "180\n",
            "192\n",
            "170\n",
            "3\n"
          ]
        }
      ]
    },
    {
      "cell_type": "code",
      "source": [
        "# 두 수의 차이의 최솟값 구하기\n",
        "s  = [1, 3, 4, 8, 13, 17, 20]\n",
        "최솟값 = float('inf')\n",
        "인덱스 = 0\n",
        "\n",
        "for i in range(len(s)-1):\n",
        "    if (s[i+1] - s[i]) < 최솟값:\n",
        "        최솟값 = s[i+1] - s[i]\n",
        "        인덱스 = i\n",
        "\n",
        "print(s[인덱스], s[인덱스+1])"
      ],
      "metadata": {
        "colab": {
          "base_uri": "https://localhost:8080/"
        },
        "id": "BRWh3HX5BW3F",
        "outputId": "22db2a79-f091-49e8-b7ff-52d50f12e2b2"
      },
      "execution_count": null,
      "outputs": [
        {
          "output_type": "stream",
          "name": "stdout",
          "text": [
            "3 4\n"
          ]
        }
      ]
    },
    {
      "cell_type": "markdown",
      "source": [
        "기본 자료구조 및 알고리즘\n",
        "1. 스택과 큐\n",
        "2. 연결리스트\n",
        "3. 트리와 그래프\n",
        "    * 3.1 트리 구현\n",
        "    * 3.2 트리의 순회\n",
        "4. 정렬 알고리즘\n",
        "    * 4.1 선택정렬\n",
        "    * 4.2 삽입정렬\n",
        "    * 4.3 병합정렬\n",
        "    * 4.4 퀵정렬\n",
        "5. 페이지 교체 알고리즘\n",
        "6. 슬라이딩 윈도우와 투 포인터 알고리즘\n"
      ],
      "metadata": {
        "id": "GMB54MkT8y4C"
      }
    },
    {
      "cell_type": "markdown",
      "source": [
        "## 스택과 큐\n",
        "* 스택은 LIFO(Last-In-First-Out, 후입선출)\n",
        "* 큐는 FIFO(First-In_First-Out, 선입선출)\n",
        "* 깊스너큐 깊이는 스택, 너비는 큐\n",
        "\n",
        "* ADT(Abstract Data Type)\n",
        "    * S.top(): 스택의 가장 윗 데이터를 반환한다. 만약 스택이 비었다면 이 연산은 정의불가 상태이다.\n",
        "    * S.pop(): 스택의 가장 윗 데이터를 삭제한다. 스택이 비었다면 연산 정의불가 상태.\n",
        "    * S.push(): 스택의 가장 윗 데이터로 top이 가리키는 자리 위에(top = top + 1) 메모리를 생성, 데이터 x를 넣는다.\n",
        "    * S.empty(): 스택이 비었다면 1을 반환하고,그렇지 않다면 0을 반환한다."
      ],
      "metadata": {
        "id": "qUnezrWK9lxc"
      }
    },
    {
      "cell_type": "code",
      "source": [
        "#스택\n",
        "s = [10,20,30,40,50]\n",
        "s.append(100) #push\n",
        "s.pop()\n",
        "\n",
        "#큐\n",
        "s = [10,20,30,40,50]\n",
        "s.append(100) #push\n",
        "s.pop(0) #pop"
      ],
      "metadata": {
        "colab": {
          "base_uri": "https://localhost:8080/"
        },
        "id": "PmXBFszoOiBD",
        "outputId": "c18598d5-7264-48af-f043-c03a356f18b9"
      },
      "execution_count": 2,
      "outputs": [
        {
          "output_type": "execute_result",
          "data": {
            "text/plain": [
              "10"
            ]
          },
          "metadata": {},
          "execution_count": 2
        }
      ]
    },
    {
      "cell_type": "markdown",
      "source": [
        "### 연결리스트\n",
        "* 연결리스트, 메모리 효율을 위해 사용되는 경우가 많음\n",
        "* 개념 : https://en.wikipedia.org/wiki/Linked_list"
      ],
      "metadata": {
        "id": "aPAtCeUK9rJM"
      }
    },
    {
      "cell_type": "code",
      "source": [
        "a = 10\n",
        "print(type(a))"
      ],
      "metadata": {
        "colab": {
          "base_uri": "https://localhost:8080/"
        },
        "id": "-PJoVwDPP9Hj",
        "outputId": "bdf89ec9-de2b-4d88-ab95-2d665ea5148a"
      },
      "execution_count": null,
      "outputs": [
        {
          "output_type": "stream",
          "name": "stdout",
          "text": [
            "<class 'int'>\n"
          ]
        }
      ]
    },
    {
      "cell_type": "markdown",
      "source": [
        "클래스 Class"
      ],
      "metadata": {
        "id": "pejokOvvQNkV"
      }
    },
    {
      "cell_type": "code",
      "source": [
        "#클래스 예시 현실세계의 자동차를 컴퓨터 세계로 self는 일단 꼬박꼬박 써주기\n",
        "class Car:\n",
        "    maxSpeed = 100\n",
        "    maxPeople =6\n",
        "    def start(self):\n",
        "        print('출발하였습니다')\n",
        "        pass\n",
        "        return #None\n",
        "    def stop(self):\n",
        "        print('출발하였습니다')\n",
        "        pass\n",
        "        return\n",
        "    def append(self, s):\n",
        "        print(f'{s}을(를) 추가합니다!')\n",
        "        # s는 파라미터\n",
        "\n",
        "# 클래스와 인스턴스\n",
        "k3 = Car()\n",
        "k5 = Car()\n",
        "k7 = Car()\n",
        "\n",
        "#Car.start() -> 자동차 공장을 출발시키는 것이다.\n",
        "# 클래스는 붕어빵틀 인스턴스는 붕어빵\n",
        "\n",
        "k3.start()\n",
        "k3.append('경고등')"
      ],
      "metadata": {
        "colab": {
          "base_uri": "https://localhost:8080/"
        },
        "id": "DDIFrYiaRAnO",
        "outputId": "cd37dc11-0025-483f-8853-8d9d164852ca"
      },
      "execution_count": null,
      "outputs": [
        {
          "output_type": "stream",
          "name": "stdout",
          "text": [
            "출발하였습니다\n",
            "경고등을(를) 추가합니다!\n"
          ]
        }
      ]
    },
    {
      "cell_type": "code",
      "source": [
        "dir(k3)"
      ],
      "metadata": {
        "colab": {
          "base_uri": "https://localhost:8080/"
        },
        "id": "TrXW4P1kTGOP",
        "outputId": "567f0ec8-1130-40e3-a6cb-22c68bb637e2"
      },
      "execution_count": null,
      "outputs": [
        {
          "output_type": "execute_result",
          "data": {
            "text/plain": [
              "['__class__',\n",
              " '__delattr__',\n",
              " '__dict__',\n",
              " '__dir__',\n",
              " '__doc__',\n",
              " '__eq__',\n",
              " '__format__',\n",
              " '__ge__',\n",
              " '__getattribute__',\n",
              " '__gt__',\n",
              " '__hash__',\n",
              " '__init__',\n",
              " '__init_subclass__',\n",
              " '__le__',\n",
              " '__lt__',\n",
              " '__module__',\n",
              " '__ne__',\n",
              " '__new__',\n",
              " '__reduce__',\n",
              " '__reduce_ex__',\n",
              " '__repr__',\n",
              " '__setattr__',\n",
              " '__sizeof__',\n",
              " '__str__',\n",
              " '__subclasshook__',\n",
              " '__weakref__',\n",
              " 'append',\n",
              " 'maxPeople',\n",
              " 'maxSpeed',\n",
              " 'start',\n",
              " 'stop']"
            ]
          },
          "metadata": {},
          "execution_count": 71
        }
      ]
    },
    {
      "cell_type": "code",
      "source": [
        "l =[1,2,3]\n",
        "print(type(l))\n",
        "# l은 class 'list'의 <인스턴스>"
      ],
      "metadata": {
        "colab": {
          "base_uri": "https://localhost:8080/"
        },
        "id": "TXawWuHcTem1",
        "outputId": "314c2944-5c20-456f-95c5-37f41bd0caa9"
      },
      "execution_count": null,
      "outputs": [
        {
          "output_type": "stream",
          "name": "stdout",
          "text": [
            "<class 'list'>\n"
          ]
        }
      ]
    },
    {
      "cell_type": "code",
      "source": [
        "class Stack:\n",
        "    def __init__(self): # 최초에 인스턴스가 생성 될 때\n",
        "        self.배열 = []\n",
        "        \n",
        "    def push(self, data):\n",
        "        self.배열.append(data)\n",
        "\n",
        "    def pop(self, index):\n",
        "        if(index > len(self.배열)-1):\n",
        "            return self.배열.pop()\n",
        "        return self.배열.pop(index)\n",
        "\n",
        "    def bottom(self):\n",
        "        self.배열[0]\n",
        "\n",
        "    def top(self):\n",
        "        self.배열[-1]\n",
        "\n",
        "    def empty(self):\n",
        "        self.배열 == []\n",
        "\n",
        "s = Stack()\n",
        "s.push(10)\n",
        "s.push(20)\n",
        "s.push(30)\n",
        "s.push(40)\n",
        "s.push(50)\n",
        "s.push(60)\n",
        "s.push(70)\n",
        "s.pop(2)\n",
        "s.배열"
      ],
      "metadata": {
        "colab": {
          "base_uri": "https://localhost:8080/"
        },
        "id": "MkImRnEZaD46",
        "outputId": "94841d0d-ff7a-4940-f53d-a249504fcb9f"
      },
      "execution_count": null,
      "outputs": [
        {
          "output_type": "execute_result",
          "data": {
            "text/plain": [
              "[10, 20, 40, 50, 60, 70]"
            ]
          },
          "metadata": {},
          "execution_count": 79
        }
      ]
    },
    {
      "cell_type": "markdown",
      "source": [
        "Quiz)\n",
        "* head -> [90, next] -> [2, next] -> [77, next] -> [35, next] -> [21, next] -> None\n",
        "* 35를 출력해주세요."
      ],
      "metadata": {
        "id": "Pxv7i0-RK8y2"
      }
    },
    {
      "cell_type": "code",
      "source": [
        "연결리스트 = {\n",
        "    'head': None\n",
        "}\n",
        "\n",
        "node1 = {'value' : 90, 'next' : None}\n",
        "node2 = {'value' :  2, 'next' : None}\n",
        "node3 = {'value' : 37, 'next' : None}\n",
        "node4 = {'value' : 35, 'next' : None}\n",
        "node5 = {'value' : 21, 'next' : None}\n",
        " \n",
        "연결리스트['head'] = node1\n",
        "node1['next'] = node2\n",
        "node2['next'] = node3\n",
        "node3['next'] = node4\n",
        "node4['next'] = node5\n",
        "\n",
        "연결리스트"
      ],
      "metadata": {
        "colab": {
          "base_uri": "https://localhost:8080/"
        },
        "id": "pmlTPZUVfkGh",
        "outputId": "24036fde-8a95-4e4e-c762-a6c657e579eb"
      },
      "execution_count": null,
      "outputs": [
        {
          "output_type": "execute_result",
          "data": {
            "text/plain": [
              "{'head': {'value': 90,\n",
              "  'next': {'value': 2,\n",
              "   'next': {'value': 37,\n",
              "    'next': {'value': 35, 'next': {'value': 21, 'next': None}}}}}}"
            ]
          },
          "metadata": {},
          "execution_count": 84
        }
      ]
    },
    {
      "cell_type": "code",
      "source": [
        "연결리스트['head']['next']['next']['next']['value']"
      ],
      "metadata": {
        "colab": {
          "base_uri": "https://localhost:8080/"
        },
        "id": "ra0r-ifvcXAF",
        "outputId": "49d9fdf2-c70e-4536-fb15-8894adca6e10"
      },
      "execution_count": null,
      "outputs": [
        {
          "output_type": "execute_result",
          "data": {
            "text/plain": [
              "35"
            ]
          },
          "metadata": {},
          "execution_count": 86
        }
      ]
    },
    {
      "cell_type": "code",
      "source": [
        "#node를 class의 인스턴스로 만들 것임\n",
        "# 대용량의 문제 효율성 테스트가 목적\n",
        "\n",
        "class Node:\n",
        "    def __init__(self,data):\n",
        "        print(f'{data}가 입력되었습니다.')\n",
        "        self.data = data\n",
        "        self.next = None\n",
        "\n",
        "        "
      ],
      "metadata": {
        "id": "GUaxMuSEgNF5"
      },
      "execution_count": null,
      "outputs": []
    },
    {
      "cell_type": "code",
      "source": [
        "class Node:\n",
        "    def __init__(self, data):\n",
        "        print(f'{data}가 입력되었습니다.')\n",
        "        self.data = data\n",
        "        self.next = None\n",
        "\n",
        "node1 = Node(90)\n",
        "node2 = Node(2)\n",
        "node3 = Node(37)\n",
        "node4 = Node(35)\n",
        "node5 = Node(21)\n",
        "\n",
        "node1.next = node2\n",
        "node2.next = node3\n",
        "node3.next = node4\n",
        "node4.next = node5\n",
        "\n",
        "node1.next.next.next.data"
      ],
      "metadata": {
        "colab": {
          "base_uri": "https://localhost:8080/"
        },
        "id": "8YsUW78jjEGW",
        "outputId": "70132201-8f80-49a2-fa5c-b344bab71bc3"
      },
      "execution_count": null,
      "outputs": [
        {
          "output_type": "stream",
          "name": "stdout",
          "text": [
            "90가 입력되었습니다.\n",
            "2가 입력되었습니다.\n",
            "37가 입력되었습니다.\n",
            "35가 입력되었습니다.\n",
            "21가 입력되었습니다.\n"
          ]
        },
        {
          "output_type": "execute_result",
          "data": {
            "text/plain": [
              "35"
            ]
          },
          "metadata": {},
          "execution_count": 88
        }
      ]
    }
  ],
  "metadata": {
    "kernelspec": {
      "display_name": "Python 3",
      "language": "python",
      "name": "python3"
    },
    "language_info": {
      "codemirror_mode": {
        "name": "ipython",
        "version": 3
      },
      "file_extension": ".py",
      "mimetype": "text/x-python",
      "name": "python",
      "nbconvert_exporter": "python",
      "pygments_lexer": "ipython3",
      "version": "3.8.5"
    },
    "colab": {
      "provenance": []
    }
  },
  "nbformat": 4,
  "nbformat_minor": 0
}
